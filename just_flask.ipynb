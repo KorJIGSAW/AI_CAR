{
 "cells": [
  {
   "cell_type": "code",
   "execution_count": null,
   "id": "cdc8be92-b1b7-4443-b3a5-daad8eafc9d7",
   "metadata": {},
   "outputs": [
    {
     "name": "stdout",
     "output_type": "stream",
     "text": [
      " * Serving Flask app '__main__'\n",
      " * Debug mode: off\n"
     ]
    },
    {
     "name": "stderr",
     "output_type": "stream",
     "text": [
      "WARNING: This is a development server. Do not use it in a production deployment. Use a production WSGI server instead.\n",
      " * Running on all addresses (0.0.0.0)\n",
      " * Running on http://127.0.0.1:5000\n",
      " * Running on http://223.194.138.35:5000\n",
      "Press CTRL+C to quit\n",
      "127.0.0.1 - - [01/Sep/2024 17:59:13] \"GET / HTTP/1.1\" 200 -\n",
      "127.0.0.1 - - [01/Sep/2024 17:59:13] \"GET / HTTP/1.1\" 200 -\n"
     ]
    }
   ],
   "source": [
    "from flask import Flask, request, render_template, Response\n",
    "import cv2\n",
    "\n",
    "app = Flask(__name__)\n",
    "\n",
    "camera = cv2.VideoCapture(0)\n",
    "\n",
    "@app.route('/upload', methods=['POST'])\n",
    "def upload():\n",
    "    if 'file' not in request.files:\n",
    "        return 'No file part'\n",
    "    file = request.files['file']\n",
    "    file.save('received_image.jpg')\n",
    "    return 'File received'\n",
    "\n",
    "@app.route('/video_feed')\n",
    "def video_feed():\n",
    "    def generate():\n",
    "        while True:\n",
    "            frame = cv2.imread('received_image.jpg')\n",
    "            if frame is None:\n",
    "                # 프레임을 읽지 못했을 경우 대기\n",
    "                continue\n",
    "            \n",
    "            _, jpeg = cv2.imencode('.jpg', frame)\n",
    "            yield (b'--frame\\r\\n'\n",
    "                   b'Content-Type: image/jpeg\\r\\n\\r\\n' + jpeg.tobytes() + b'\\r\\n')\n",
    "    \n",
    "    return Response(generate(), mimetype='multipart/x-mixed-replace; boundary=frame')\n",
    "\n",
    "@app.route('/')\n",
    "def index():\n",
    "    return render_template('index.html')\n",
    "\n",
    "if __name__ == '__main__':\n",
    "    app.run(host='0.0.0.0', port=5000)\n"
   ]
  },
  {
   "cell_type": "code",
   "execution_count": null,
   "id": "fa3de0a1-a54b-4003-a8e4-0cae96661123",
   "metadata": {},
   "outputs": [],
   "source": [
    "!flask run --host=0.0.0.0 --port=5000"
   ]
  },
  {
   "cell_type": "code",
   "execution_count": null,
   "id": "022f7606-a93a-47ec-9a2f-ccce12b4c59e",
   "metadata": {},
   "outputs": [],
   "source": []
  },
  {
   "cell_type": "code",
   "execution_count": null,
   "id": "eb3d0a4f-908d-4231-8505-b5651f2d9dd4",
   "metadata": {},
   "outputs": [],
   "source": []
  }
 ],
 "metadata": {
  "kernelspec": {
   "display_name": "Python 3 (ipykernel)",
   "language": "python",
   "name": "python3"
  },
  "language_info": {
   "codemirror_mode": {
    "name": "ipython",
    "version": 3
   },
   "file_extension": ".py",
   "mimetype": "text/x-python",
   "name": "python",
   "nbconvert_exporter": "python",
   "pygments_lexer": "ipython3",
   "version": "3.11.7"
  }
 },
 "nbformat": 4,
 "nbformat_minor": 5
}
